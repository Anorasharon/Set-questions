{
 "cells": [
  {
   "cell_type": "code",
   "execution_count": 4,
   "id": "2f5fc334-553f-4ce1-906f-a377a48d03f0",
   "metadata": {},
   "outputs": [],
   "source": [
    "#Question: Write a Python program to ask the user for their age and check if they are eligible to vote (age 18 or older).'''\n"
   ]
  },
  {
   "cell_type": "code",
   "execution_count": 6,
   "id": "4e6dba51-3404-454d-adcb-2788a975f5cc",
   "metadata": {},
   "outputs": [
    {
     "name": "stdin",
     "output_type": "stream",
     "text": [
      "Enter your age:  18\n"
     ]
    },
    {
     "name": "stdout",
     "output_type": "stream",
     "text": [
      "You are eligible to vote.\n"
     ]
    }
   ],
   "source": [
    "age = int(input(\"Enter your age: \"))\n",
    "if age >= 18:\n",
    "    print(\"You are eligible to vote.\")\n",
    "else:\n",
    "    print(\"You are not eligible to vote.\")\n"
   ]
  },
  {
   "cell_type": "code",
   "execution_count": 7,
   "id": "99de0e64-c9a2-4a63-8781-99d0ea907a2d",
   "metadata": {},
   "outputs": [],
   "source": [
    "#Question: Write a Python program to find and return the largest number from a given list."
   ]
  },
  {
   "cell_type": "code",
   "execution_count": 8,
   "id": "858db1ea-b8bb-4939-8b44-72d662f3b042",
   "metadata": {},
   "outputs": [
    {
     "name": "stdout",
     "output_type": "stream",
     "text": [
      "The largest number is: 67\n"
     ]
    }
   ],
   "source": [
    "numbers = [10, 45, 32, 67, 23]\n",
    "largest = max(numbers)\n",
    "print(\"The largest number is:\", largest)\n"
   ]
  },
  {
   "cell_type": "code",
   "execution_count": 9,
   "id": "82e2bf75-3728-4a07-9e1e-2a82833fc771",
   "metadata": {},
   "outputs": [],
   "source": [
    "#Question: Write a Python program to calculate a 10% bonus if the salary is more than $50,000."
   ]
  },
  {
   "cell_type": "code",
   "execution_count": 10,
   "id": "bed31039-2adc-4a99-a36d-bf1a11ebd3e9",
   "metadata": {},
   "outputs": [
    {
     "name": "stdin",
     "output_type": "stream",
     "text": [
      "Enter your salary:  60000\n"
     ]
    },
    {
     "name": "stdout",
     "output_type": "stream",
     "text": [
      "Bonus amount: 6000.0\n"
     ]
    }
   ],
   "source": [
    "salary = float(input(\"Enter your salary: \"))\n",
    "if salary > 50000:\n",
    "    bonus = salary * 0.10\n",
    "else:\n",
    "    bonus = 0\n",
    "print(\"Bonus amount:\", bonus)\n"
   ]
  },
  {
   "cell_type": "code",
   "execution_count": 11,
   "id": "ac28270c-95b7-422b-8d3e-2fecf9a96873",
   "metadata": {},
   "outputs": [],
   "source": [
    "#Question: Write a Python program to reverse a given word or sentence."
   ]
  },
  {
   "cell_type": "code",
   "execution_count": 12,
   "id": "46eb7666-7667-42a1-bff4-0361cc5f7f4e",
   "metadata": {},
   "outputs": [
    {
     "name": "stdin",
     "output_type": "stream",
     "text": [
      "Enter a word or sentence:  hello\n"
     ]
    },
    {
     "name": "stdout",
     "output_type": "stream",
     "text": [
      "Reversed: olleh\n"
     ]
    }
   ],
   "source": [
    "text = input(\"Enter a word or sentence: \")\n",
    "reversed_text = text[::-1]\n",
    "print(\"Reversed:\", reversed_text)\n"
   ]
  },
  {
   "cell_type": "code",
   "execution_count": 13,
   "id": "837fbe6a-310c-4e05-bc24-bd8578915e48",
   "metadata": {},
   "outputs": [],
   "source": [
    "#Question: Write a Python program to check if a student has passed a subject by scoring at least 40 marks."
   ]
  },
  {
   "cell_type": "code",
   "execution_count": 14,
   "id": "a39e1e30-4042-40dc-a31b-e3b42b173ee2",
   "metadata": {},
   "outputs": [
    {
     "name": "stdin",
     "output_type": "stream",
     "text": [
      "Enter your score:  50\n"
     ]
    },
    {
     "name": "stdout",
     "output_type": "stream",
     "text": [
      "Pass\n"
     ]
    }
   ],
   "source": [
    "score = int(input(\"Enter your score: \"))\n",
    "if score >= 40:\n",
    "    print(\"Pass\")\n",
    "else:\n",
    "    print(\"Fail\")\n"
   ]
  },
  {
   "cell_type": "code",
   "execution_count": 15,
   "id": "9362dd3e-5cfb-4179-a964-63b039cc7929",
   "metadata": {},
   "outputs": [],
   "source": [
    "#Question: Write a Python program to calculate a 20% discount if the total order exceeds $100."
   ]
  },
  {
   "cell_type": "code",
   "execution_count": 16,
   "id": "f3fbf31f-b831-4bf6-b912-9b6e7fd49567",
   "metadata": {},
   "outputs": [
    {
     "name": "stdin",
     "output_type": "stream",
     "text": [
      "Enter total order amount:  500\n"
     ]
    },
    {
     "name": "stdout",
     "output_type": "stream",
     "text": [
      "Final amount to be paid: 400.0\n"
     ]
    }
   ],
   "source": [
    "total = float(input(\"Enter total order amount: \"))\n",
    "if total > 100:\n",
    "    discount = total * 0.20\n",
    "else:\n",
    "    discount = 0\n",
    "final_amount = total - discount\n",
    "print(\"Final amount to be paid:\", final_amount)\n"
   ]
  },
  {
   "cell_type": "code",
   "execution_count": 17,
   "id": "48ddf81d-5511-4381-abdf-37b7b9baf689",
   "metadata": {},
   "outputs": [],
   "source": [
    "#Question: Write a Python program to check if a user has enough balance before allowing withdrawal, and update the remaining balance."
   ]
  },
  {
   "cell_type": "code",
   "execution_count": 18,
   "id": "7bab0c4b-d90b-461d-bc57-12341e03e73b",
   "metadata": {},
   "outputs": [
    {
     "name": "stdin",
     "output_type": "stream",
     "text": [
      "Enter your current balance:  10000\n",
      "Enter withdrawal amount:  5000\n"
     ]
    },
    {
     "name": "stdout",
     "output_type": "stream",
     "text": [
      "Withdrawal successful. Remaining balance: 5000.0\n"
     ]
    }
   ],
   "source": [
    "balance = float(input(\"Enter your current balance: \"))\n",
    "withdraw = float(input(\"Enter withdrawal amount: \"))\n",
    "if withdraw <= balance:\n",
    "    balance -= withdraw\n",
    "    print(\"Withdrawal successful. Remaining balance:\", balance)\n",
    "else:\n",
    "    print(\"Insufficient balance.\")\n"
   ]
  },
  {
   "cell_type": "code",
   "execution_count": 19,
   "id": "e9d185d9-b10f-4614-812f-6391dc18da1c",
   "metadata": {},
   "outputs": [],
   "source": [
    "#Question: Write a Python program to determine whether a given year is a leap year."
   ]
  },
  {
   "cell_type": "code",
   "execution_count": 22,
   "id": "326abd87-aecb-4c6d-9cd6-4e22dfcc8ed4",
   "metadata": {},
   "outputs": [
    {
     "name": "stdin",
     "output_type": "stream",
     "text": [
      "Enter a year:  2016\n"
     ]
    },
    {
     "name": "stdout",
     "output_type": "stream",
     "text": [
      "2016 is a leap year\n"
     ]
    }
   ],
   "source": [
    "year = int(input(\"Enter a year: \"))\n",
    "if (year % 4 == 0):\n",
    "    print(year, \"is a leap year\")\n",
    "else:\n",
    "    print(year, \"is not a leap year\")\n"
   ]
  },
  {
   "cell_type": "code",
   "execution_count": 23,
   "id": "b2f45cb0-cf43-4c9d-b940-5f8d78dee113",
   "metadata": {},
   "outputs": [],
   "source": [
    "#Question: Write a Python program to extract and return only even numbers from a list."
   ]
  },
  {
   "cell_type": "code",
   "execution_count": 24,
   "id": "5e1aac6e-787e-42d6-b121-d68e1b98d1e5",
   "metadata": {},
   "outputs": [
    {
     "name": "stdout",
     "output_type": "stream",
     "text": [
      "Even numbers: [4, 10, 16]\n"
     ]
    }
   ],
   "source": [
    "numbers = [1, 4, 7, 10, 13, 16]\n",
    "even_numbers = []\n",
    "\n",
    "for n in numbers:\n",
    "    if n % 2 == 0:\n",
    "        even_numbers.append(n)\n",
    "\n",
    "print(\"Even numbers:\", even_numbers)\n"
   ]
  },
  {
   "cell_type": "code",
   "execution_count": null,
   "id": "af260e75-f1b0-4602-ad60-cc4ae5b8dc0e",
   "metadata": {},
   "outputs": [],
   "source": []
  }
 ],
 "metadata": {
  "kernelspec": {
   "display_name": "Python 3 (ipykernel)",
   "language": "python",
   "name": "python3"
  },
  "language_info": {
   "codemirror_mode": {
    "name": "ipython",
    "version": 3
   },
   "file_extension": ".py",
   "mimetype": "text/x-python",
   "name": "python",
   "nbconvert_exporter": "python",
   "pygments_lexer": "ipython3",
   "version": "3.12.7"
  }
 },
 "nbformat": 4,
 "nbformat_minor": 5
}
